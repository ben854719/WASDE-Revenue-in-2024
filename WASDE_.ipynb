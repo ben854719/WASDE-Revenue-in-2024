{
  "nbformat": 4,
  "nbformat_minor": 0,
  "metadata": {
    "colab": {
      "provenance": [],
      "cell_execution_strategy": "setup",
      "authorship_tag": "ABX9TyOlj4bPJ0AGFkRXvr+dEJ5c",
      "include_colab_link": true
    },
    "kernelspec": {
      "name": "python3",
      "display_name": "Python 3"
    },
    "language_info": {
      "name": "python"
    }
  },
  "cells": [
    {
      "cell_type": "markdown",
      "metadata": {
        "id": "view-in-github",
        "colab_type": "text"
      },
      "source": [
        "<a href=\"https://colab.research.google.com/github/ben854719/WASDE-Revenue-in-2024/blob/main/WASDE_.ipynb\" target=\"_parent\"><img src=\"https://colab.research.google.com/assets/colab-badge.svg\" alt=\"Open In Colab\"/></a>"
      ]
    },
    {
      "cell_type": "code",
      "execution_count": 20,
      "metadata": {
        "id": "kahbInK792DM"
      },
      "outputs": [],
      "source": [
        "import pandas as pd\n"
      ]
    },
    {
      "cell_type": "code",
      "source": [
        "# Import the dataset for the Word Agricultural Supply and Demand Estamites.\n",
        "WASDE_DATA = pd.read_csv(\"WASDE_DATA.csv\")\n",
        "print(WASDE_DATA.head(3703))"
      ],
      "metadata": {
        "id": "rC_PSacKTWb8",
        "colab": {
          "base_uri": "https://localhost:8080/"
        },
        "outputId": "f9afbf2c-7f79-4b2a-c41c-83728203a8fc"
      },
      "execution_count": 21,
      "outputs": [
        {
          "output_type": "stream",
          "name": "stdout",
          "text": [
            "                code report_month            region commodity  \\\n",
            "0     WHEAT_WORLD_19       24-Feb  World Less China     Wheat   \n",
            "1     WHEAT_WORLD_19       24-Feb  World Less China     Wheat   \n",
            "2     WHEAT_WORLD_19       24-Feb  World Less China     Wheat   \n",
            "3     WHEAT_WORLD_19       24-Feb  World Less China     Wheat   \n",
            "4     WHEAT_WORLD_19       24-Feb  World Less China     Wheat   \n",
            "...              ...          ...               ...       ...   \n",
            "3698  WHEAT_WORLD_19       23-Jan         Argentina     Wheat   \n",
            "3699  WHEAT_WORLD_19       23-Jan         Argentina     Wheat   \n",
            "3700  WHEAT_WORLD_19       23-Jan         Argentina     Wheat   \n",
            "3701  WHEAT_WORLD_19       23-Jan         Argentina     Wheat   \n",
            "3702  WHEAT_WORLD_19       23-Jan         Argentina     Wheat   \n",
            "\n",
            "                   item           year period   value  \n",
            "0            Production  2023/24 Proj.    Jan  648.32  \n",
            "1            Production  2023/24 Proj.    Feb  649.15  \n",
            "2               Imports  2023/24 Proj.    Jan  196.65  \n",
            "3               Imports  2023/24 Proj.    Feb  197.89  \n",
            "4               Exports  2023/24 Proj.    Jan  208.64  \n",
            "...                 ...            ...    ...     ...  \n",
            "3698  Domestic Total 2/  2022/23 Proj.    Dec    6.15  \n",
            "3699      Domestic Feed  2022/23 Proj.    Jan    0.05  \n",
            "3700      Domestic Feed  2022/23 Proj.    Dec    0.05  \n",
            "3701   Beginning Stocks  2022/23 Proj.    Jan    2.35  \n",
            "3702   Beginning Stocks  2022/23 Proj.    Dec    2.08  \n",
            "\n",
            "[3703 rows x 8 columns]\n"
          ]
        }
      ]
    },
    {
      "cell_type": "code",
      "source": [
        "# I will remove the informations which are duplicated in the dataset.\n",
        "WASDE_Data = WASDE_DATA.drop_duplicates()\n",
        "print(WASDE_DATA.head(3703))"
      ],
      "metadata": {
        "id": "lTalCH4hWwOm",
        "colab": {
          "base_uri": "https://localhost:8080/"
        },
        "outputId": "c7b032b6-8b84-4f1f-bd9a-34c9bbc19f6e"
      },
      "execution_count": 22,
      "outputs": [
        {
          "output_type": "stream",
          "name": "stdout",
          "text": [
            "                code report_month            region commodity  \\\n",
            "0     WHEAT_WORLD_19       24-Feb  World Less China     Wheat   \n",
            "1     WHEAT_WORLD_19       24-Feb  World Less China     Wheat   \n",
            "2     WHEAT_WORLD_19       24-Feb  World Less China     Wheat   \n",
            "3     WHEAT_WORLD_19       24-Feb  World Less China     Wheat   \n",
            "4     WHEAT_WORLD_19       24-Feb  World Less China     Wheat   \n",
            "...              ...          ...               ...       ...   \n",
            "3698  WHEAT_WORLD_19       23-Jan         Argentina     Wheat   \n",
            "3699  WHEAT_WORLD_19       23-Jan         Argentina     Wheat   \n",
            "3700  WHEAT_WORLD_19       23-Jan         Argentina     Wheat   \n",
            "3701  WHEAT_WORLD_19       23-Jan         Argentina     Wheat   \n",
            "3702  WHEAT_WORLD_19       23-Jan         Argentina     Wheat   \n",
            "\n",
            "                   item           year period   value  \n",
            "0            Production  2023/24 Proj.    Jan  648.32  \n",
            "1            Production  2023/24 Proj.    Feb  649.15  \n",
            "2               Imports  2023/24 Proj.    Jan  196.65  \n",
            "3               Imports  2023/24 Proj.    Feb  197.89  \n",
            "4               Exports  2023/24 Proj.    Jan  208.64  \n",
            "...                 ...            ...    ...     ...  \n",
            "3698  Domestic Total 2/  2022/23 Proj.    Dec    6.15  \n",
            "3699      Domestic Feed  2022/23 Proj.    Jan    0.05  \n",
            "3700      Domestic Feed  2022/23 Proj.    Dec    0.05  \n",
            "3701   Beginning Stocks  2022/23 Proj.    Jan    2.35  \n",
            "3702   Beginning Stocks  2022/23 Proj.    Dec    2.08  \n",
            "\n",
            "[3703 rows x 8 columns]\n"
          ]
        }
      ]
    },
    {
      "cell_type": "code",
      "source": [
        "# I will rename the columns.\n",
        "WASDE_DATA = WASDE_DATA.rename({'code': 'code of the wheat', 'report_month': 'financial report of the month', 'region': 'regions of the world', 'item': 'items of export and import', 'year': 'period of the year', 'value': 'value of the commodities'}, axis=1)\n",
        "print(WASDE_DATA.head(3703))"
      ],
      "metadata": {
        "id": "ddFFOlashSWd",
        "colab": {
          "base_uri": "https://localhost:8080/"
        },
        "outputId": "a250eb81-2449-4fd8-a77f-86b89f2de6f9"
      },
      "execution_count": 23,
      "outputs": [
        {
          "output_type": "stream",
          "name": "stdout",
          "text": [
            "     code of the wheat financial report of the month regions of the world  \\\n",
            "0       WHEAT_WORLD_19                        24-Feb     World Less China   \n",
            "1       WHEAT_WORLD_19                        24-Feb     World Less China   \n",
            "2       WHEAT_WORLD_19                        24-Feb     World Less China   \n",
            "3       WHEAT_WORLD_19                        24-Feb     World Less China   \n",
            "4       WHEAT_WORLD_19                        24-Feb     World Less China   \n",
            "...                ...                           ...                  ...   \n",
            "3698    WHEAT_WORLD_19                        23-Jan            Argentina   \n",
            "3699    WHEAT_WORLD_19                        23-Jan            Argentina   \n",
            "3700    WHEAT_WORLD_19                        23-Jan            Argentina   \n",
            "3701    WHEAT_WORLD_19                        23-Jan            Argentina   \n",
            "3702    WHEAT_WORLD_19                        23-Jan            Argentina   \n",
            "\n",
            "     commodity items of export and import period of the year period  \\\n",
            "0        Wheat                 Production      2023/24 Proj.    Jan   \n",
            "1        Wheat                 Production      2023/24 Proj.    Feb   \n",
            "2        Wheat                    Imports      2023/24 Proj.    Jan   \n",
            "3        Wheat                    Imports      2023/24 Proj.    Feb   \n",
            "4        Wheat                    Exports      2023/24 Proj.    Jan   \n",
            "...        ...                        ...                ...    ...   \n",
            "3698     Wheat          Domestic Total 2/      2022/23 Proj.    Dec   \n",
            "3699     Wheat              Domestic Feed      2022/23 Proj.    Jan   \n",
            "3700     Wheat              Domestic Feed      2022/23 Proj.    Dec   \n",
            "3701     Wheat           Beginning Stocks      2022/23 Proj.    Jan   \n",
            "3702     Wheat           Beginning Stocks      2022/23 Proj.    Dec   \n",
            "\n",
            "      value of the commodities  \n",
            "0                       648.32  \n",
            "1                       649.15  \n",
            "2                       196.65  \n",
            "3                       197.89  \n",
            "4                       208.64  \n",
            "...                        ...  \n",
            "3698                      6.15  \n",
            "3699                      0.05  \n",
            "3700                      0.05  \n",
            "3701                      2.35  \n",
            "3702                      2.08  \n",
            "\n",
            "[3703 rows x 8 columns]\n"
          ]
        }
      ]
    }
  ]
}