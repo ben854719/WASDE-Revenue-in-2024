{
  "nbformat": 4,
  "nbformat_minor": 0,
  "metadata": {
    "colab": {
      "provenance": [],
      "cell_execution_strategy": "setup",
      "authorship_tag": "ABX9TyNrFbhshpMlHONfwUOstQ9Q",
      "include_colab_link": true
    },
    "kernelspec": {
      "name": "python3",
      "display_name": "Python 3"
    },
    "language_info": {
      "name": "python"
    }
  },
  "cells": [
    {
      "cell_type": "markdown",
      "metadata": {
        "id": "view-in-github",
        "colab_type": "text"
      },
      "source": [
        "<a href=\"https://colab.research.google.com/github/ben854719/WASDE-Revenue-in-2024/blob/main/Another_copy_of_WASDE_AI.ipynb\" target=\"_parent\"><img src=\"https://colab.research.google.com/assets/colab-badge.svg\" alt=\"Open In Colab\"/></a>"
      ]
    },
    {
      "source": [
        "from IPython import get_ipython\n",
        "from IPython.display import display\n",
        "# %%\n",
        "import numpy as np\n",
        "import pandas as pd\n",
        "import matplotlib.pyplot as plt\n",
        "from sklearn.model_selection import train_test_split\n",
        "from sklearn.preprocessing import StandardScaler, LabelEncoder\n",
        "import torch\n",
        "import torch.nn as nn\n",
        "import torch.optim as optim\n",
        "\n",
        "# Import the dataset from WASDE.\n",
        "WASDE_DATAE_df = pd.read_csv('WASDE_DATAE.csv')\n",
        "\n",
        "# Create Scaler Object.\n",
        "scaler = StandardScaler()\n",
        "\n",
        "# Numpy array for the dataset.\n",
        "numerical_features = ['code', 'report_month', 'region', 'commodity', 'item', 'year', 'period', 'value']\n",
        "\n",
        "for feature in numerical_features:\n",
        "    if WASDE_DATAE_df[feature].dtype == object:\n",
        "        le = LabelEncoder()\n",
        "        WASDE_DATAE_df[feature] = le.fit_transform(WASDE_DATAE_df[feature])\n",
        "\n",
        "# fit the scaler to the numerical features.\n",
        "scaler.fit(WASDE_DATAE_df[numerical_features])\n",
        "\n",
        "# Transform the data.\n",
        "WASDE_DATAE_df[numerical_features] = scaler.transform(WASDE_DATAE_df[numerical_features])\n",
        "\n",
        "# Create the tensor of input features.\n",
        "X = torch.tensor(WASDE_DATAE_df[['code', 'report_month', 'region', 'commodity', 'item', 'year', 'period']].values, dtype=torch.float32)\n",
        "Y = torch.tensor(WASDE_DATAE_df['value'].values, dtype=torch.float32)\n",
        "\n",
        "# train the model of the dataset.\n",
        "x_train, x_test, y_train, y_test = train_test_split(X, Y, test_size=0.2, random_state=42)\n",
        "\n",
        "# set a random seed.\n",
        "torch.manual_seed(42)\n",
        "\n",
        "# Scale target variable\n",
        "scaler_y = StandardScaler()\n",
        "y_train = scaler_y.fit_transform(y_train.reshape(-1, 1)).flatten()\n",
        "y_test = scaler_y.transform(y_test.reshape(-1, 1)).flatten()\n",
        "\n",
        "# Convert y_train and y_test back to PyTorch tensors and reshape\n",
        "y_train = torch.tensor(y_train, dtype=torch.float32).unsqueeze(1)\n",
        "y_test = torch.tensor(y_test, dtype=torch.float32).unsqueeze(1)\n",
        "\n",
        "\n",
        "# Check for NaN/Inf in input and target\n",
        "x_train[torch.isnan(x_train)] = 0\n",
        "x_train[torch.isinf(x_train)] = 0\n",
        "y_train[torch.isnan(y_train)] = 0\n",
        "y_train[torch.isinf(y_train)] = 0\n",
        "x_test[torch.isnan(x_test)] = 0\n",
        "x_test[torch.isinf(x_test)] = 0\n",
        "y_test[torch.isnan(y_test)] = 0\n",
        "y_test[torch.isinf(y_test)] = 0\n",
        "\n",
        "# Define the model using nn.Sequential.\n",
        "model = nn.Sequential(\n",
        "    nn.Linear(7, 32),\n",
        "    nn.ReLU(),\n",
        "    nn.Dropout(0.2),\n",
        "    nn.Linear(32, 16),\n",
        "    nn.ReLU(),\n",
        "    nn.Linear(16, 1)\n",
        ")\n",
        "\n",
        "# MSE Loss Function + optimizer.\n",
        "loss_fn = nn.MSELoss()\n",
        "optimizer = optim.Adam(model.parameters(), lr=0.001)\n",
        "\n",
        "num_epochs = 200\n",
        "\n",
        "epoch_format = 'Epoch[{0}' + str(num_epochs)+'], MSE.loss:{1}'\n",
        "\n",
        "for epoch in range(num_epochs):\n",
        "    predictions = model(x_train)\n",
        "    MSE = loss_fn(predictions, y_train)\n",
        "\n",
        "    # Check if loss is NaN and break if it is\n",
        "    if torch.isnan(MSE):\n",
        "        print(f\"Loss is NaN at epoch {epoch + 1}. Stopping training.\")\n",
        "        break\n",
        "\n",
        "    MSE.backward()\n",
        "\n",
        "    # Check for NaN/Inf in model parameters and break if found.\n",
        "    for name, param in model.named_parameters():\n",
        "        if torch.isnan(param.grad).any() or torch.isinf(param.grad).any():\n",
        "            print(f\"NaN or Inf detected in gradients for parameter '{name}' at epoch {epoch + 1}.\")\n",
        "            break\n",
        "\n",
        "    # Replace NaN/Inf in gradients with 0\n",
        "    for name, param in model.named_parameters():\n",
        "        if torch.isnan(param.grad).any() or torch.isinf(param.grad).any():\n",
        "            param.grad.data.fill_(0)\n",
        "\n",
        "  # Gradient Clipping\n",
        "    torch.nn.utils.clip_grad_norm_(model.parameters(), max_norm=1)\n",
        "\n",
        "for m in model.modules():\n",
        "    if isinstance(m, nn.Linear):\n",
        "        torch.nn.init.xavier_uniform_(m.weight)\n",
        "        m.bias.data.fill_(0.01)\n",
        "\n",
        "    optimizer.step()\n",
        "    optimizer.zero_grad()\n",
        "\n",
        "    if (epoch+1) % 100 == 0:\n",
        "        print(epoch_format.format(epoch + 1, MSE.item()))"
      ],
      "cell_type": "code",
      "metadata": {
        "colab": {
          "base_uri": "https://localhost:8080/"
        },
        "id": "Jg7AaaShq2VJ",
        "outputId": "e4bb1fc7-c977-4e37-c022-cc47c2eb47e0"
      },
      "execution_count": null,
      "outputs": [
        {
          "output_type": "stream",
          "name": "stdout",
          "text": [
            "Epoch[200200], MSE.loss:0.9669618010520935\n",
            "Epoch[200200], MSE.loss:0.9669618010520935\n",
            "Epoch[200200], MSE.loss:0.9669618010520935\n",
            "Epoch[200200], MSE.loss:0.9669618010520935\n",
            "Epoch[200200], MSE.loss:0.9669618010520935\n",
            "Epoch[200200], MSE.loss:0.9669618010520935\n",
            "Epoch[200200], MSE.loss:0.9669618010520935\n"
          ]
        }
      ]
    },
    {
      "cell_type": "code",
      "source": [
        "# formula for torch save.\n",
        "torch.save(model.state_dict(), 'model.pth')"
      ],
      "metadata": {
        "id": "EqHpZFfGGatt"
      },
      "execution_count": null,
      "outputs": []
    },
    {
      "source": [
        "# Load the model.\n",
        "model = nn.Sequential(\n",
        "    nn.Linear(7, 32),\n",
        "    nn.ReLU(),\n",
        "    nn.Dropout(0.2),\n",
        "    nn.Linear(32, 16),\n",
        "    nn.ReLU(),\n",
        "    nn.Linear(16, 1)\n",
        ")\n",
        "\n",
        "for m in model.modules():\n",
        "   if isinstance(m, nn.Linear):\n",
        "        torch.nn.init.xavier_uniform_(m.weight)\n",
        "        m.bias.data.fill_(0.01)  # Initialize bias to a small value\n",
        "\n",
        "# Load the state dictionary directly into the model\n",
        "model.load_state_dict(torch.load('model.pth', weights_only=True))\n",
        "\n",
        "# Set the model to evaluation mode\n",
        "model.eval()\n",
        "\n",
        "#Replace NaN Valies in x_test with 0 (or mean/medium)\n",
        "x_test[torch.isnan(x_test)] = 0\n",
        "\n",
        "# Make predictions and calculate MSE\n",
        "with torch.no_grad():\n",
        "    predictions = model(x_test)\n",
        "    MSE = loss_fn(predictions, y_test)\n",
        "    print(MSE)"
      ],
      "cell_type": "code",
      "metadata": {
        "colab": {
          "base_uri": "https://localhost:8080/"
        },
        "id": "exZeb76drG90",
        "outputId": "77721fc6-a700-4dff-9187-b62ad39825f6"
      },
      "execution_count": null,
      "outputs": [
        {
          "output_type": "stream",
          "name": "stdout",
          "text": [
            "tensor(1.3846)\n"
          ]
        }
      ]
    },
    {
      "source": [
        "# Data visualizationfor the dataset.\n",
        "\n",
        "# Group data by region and get the values for each region\n",
        "region_values = WASDE_DATAE_df.groupby('region')['value'].apply(list).reset_index()\n",
        "\n",
        "# Create the histogram\n",
        "plt.figure(figsize=(10, 6))\n",
        "for index, row in region_values.iterrows():\n",
        "    plt.hist(row['value'], bins=10, alpha=0.7, label=row['region'], edgecolor='black')\n",
        "\n",
        "plt.xlabel(\"Value\")\n",
        "plt.ylabel(\"Frequency\")\n",
        "plt.title(\"Distribution of Value by Region\")\n",
        "plt.legend()\n",
        "plt.show()"
      ],
      "cell_type": "code",
      "metadata": {
        "colab": {
          "base_uri": "https://localhost:8080/",
          "height": 564
        },
        "id": "VqSR8RbB85M4",
        "outputId": "b57d40bf-0f77-4974-f1a6-f0f511bae94f"
      },
      "execution_count": null,
      "outputs": [
        {
          "output_type": "display_data",
          "data": {
            "text/plain": [
              "<Figure size 1000x600 with 1 Axes>"
            ],
            "image/png": "[encoded data removed]"
          },
          "metadata": {}
        }
      ]
    },
    {
      "cell_type": "code",
      "source": [
        "Explanation:\n",
        "\n",
        "The histogram graph explains the frequency and the value of commodities of good in the different region of the world. You will notice the bar one has the lowest frequency of 0.99 and the lowest value compared to the other graph. The graph 1 represents the lowest of value of trade of commodities.\n",
        "You will notice that the bar 2 and 3 that overshadowed each other as the high frequency of 5.9 which the revenue per capita of trade of goods compare to the regions of the world.The bar 4, 5, and 6 have the same frequency of 3.8 which means their values of trade in revenue for goods are the same in their categories.\n",
        "\n"
      ],
      "metadata": {
        "id": "XI__G_3A9WU0"
      },
      "execution_count": null,
      "outputs": []
    }
  ]
}