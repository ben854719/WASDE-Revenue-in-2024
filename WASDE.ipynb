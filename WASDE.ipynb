{
  "nbformat": 4,
  "nbformat_minor": 0,
  "metadata": {
    "colab": {
      "private_outputs": true,
      "provenance": [],
      "authorship_tag": "ABX9TyOlj4bPJ0AGFkRXvr+dEJ5c"
    },
    "kernelspec": {
      "name": "python3",
      "display_name": "Python 3"
    },
    "language_info": {
      "name": "python"
    }
  },
  "cells": [
    {
      "cell_type": "code",
      "execution_count": null,
      "metadata": {
        "id": "kahbInK792DM"
      },
      "outputs": [],
      "source": [
        "import pandas as pd\n"
      ]
    },
    {
      "cell_type": "code",
      "source": [
        "# Import the dataset for the Word Agricultural Supply and Demand Estamites.\n",
        "WASDE_DATA = pd.read_csv(\"WASDE_DATA.csv\")\n",
        "print(WASDE_DATA.head(3703))"
      ],
      "metadata": {
        "id": "rC_PSacKTWb8"
      },
      "execution_count": null,
      "outputs": []
    },
    {
      "cell_type": "code",
      "source": [
        "# I will remove the informations which are duplicated in the dataset.\n",
        "WASDE_Data = WASDE_DATA.drop_duplicates()\n",
        "print(WASDE_DATA.head(3703))"
      ],
      "metadata": {
        "id": "lTalCH4hWwOm"
      },
      "execution_count": null,
      "outputs": []
    },
    {
      "cell_type": "code",
      "source": [
        "# I will rename the columns.\n",
        "WASDE_DATA = WASDE_DATA.rename({'code': 'code of the wheat', 'report_month': 'financial report of the month', 'region': 'regions of the world', 'item': 'items of export and import', 'year': 'period of the year', 'value': 'value of the commodities'}, axis=1)\n",
        "print(WASDE_DATA.head(3703))"
      ],
      "metadata": {
        "id": "ddFFOlashSWd"
      },
      "execution_count": null,
      "outputs": []
    }
  ]
}